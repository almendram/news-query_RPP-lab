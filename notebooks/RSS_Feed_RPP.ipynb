{
 "cells": [
  {
   "cell_type": "markdown",
   "id": "6480ee5c",
   "metadata": {},
   "source": [
    "### TAREA 1: Sistema de recuperación de noticias (RPP)"
   ]
  },
  {
   "cell_type": "markdown",
   "id": "5a58f92a",
   "metadata": {
    "vscode": {
     "languageId": "plaintext"
    }
   },
   "source": [
    "OBJETIVO:\n",
    "Ingerir las últimas noticias de RPP (https://rpp.pe/rss), tokenizarlas, generar incrustaciones con SentenceTransformers,almacenarlas en ChromaDB y realizar consultas semánticas usando LangChain."
   ]
  },
  {
   "cell_type": "code",
   "execution_count": null,
   "id": "9d7a7933",
   "metadata": {},
   "outputs": [
    {
     "ename": "",
     "evalue": "",
     "output_type": "error",
     "traceback": [
      "\u001b[1;31mRunning cells with 'news_lab (Python 3.10.19)' requires the ipykernel package.\n",
      "\u001b[1;31m<a href='command:jupyter.createPythonEnvAndSelectController'>Create a Python Environment</a> with the required packages.\n",
      "\u001b[1;31mOr install 'ipykernel' using the command: 'conda install -n news_lab ipykernel --update-deps --force-reinstall'"
     ]
    }
   ],
   "source": [
    "# Librerías\n",
    "pip install feedparser tiktoken sentence-transformers chromadb langchain pandas"
   ]
  }
 ],
 "metadata": {
  "kernelspec": {
   "display_name": "news_lab",
   "language": "python",
   "name": "python3"
  },
  "language_info": {
   "name": "python",
   "version": "3.10.19"
  }
 },
 "nbformat": 4,
 "nbformat_minor": 5
}
